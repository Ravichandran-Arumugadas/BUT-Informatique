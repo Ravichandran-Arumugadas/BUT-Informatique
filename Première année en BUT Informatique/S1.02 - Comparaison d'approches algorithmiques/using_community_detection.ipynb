{
 "cells": [
  {
   "cell_type": "markdown",
   "metadata": {},
   "source": [
    "### Question 2\n",
    "\n",
    "Comparer théoriquement et expériementalement les fonctions `dico_reseau` et `create_network`.\n",
    "\n",
    "Comparons théoriquement.\n",
    "\n",
    "- La fonction dico_reseau utilise deux fonctions personnes_reseau et liste_amis afin de créer un dictionnaire qui modélise un réseau. \n",
    "Tout d'abord, la fonction personnes_reseau utilise une boucle while, sa compléxité est linéaire(O(n)) et de même pour la fonction liste_amis. De plus, la fonction dico_reseau parcourt elle aussi une boucle while. Cependant, dans la boucle while de la fonction dico_reseau, la fonction liste_amis est appelée. Par conséquent, il y a une boucle imbriquée logiquement, ce qui fait dico_reseau a une compléxite quadratique. Ainsi, en combinant toutes les fonctions, la compléxité de la fonction dico_reseau est quadratique(O(n^2)).\n",
    "\n",
    "- Au niveau de la fonction create_network, la compléxité de cette fonction est linéaire. En effet, dans cette fonction, il y a juste une boucle qui est utilisée.\n",
    "\n",
    "\n",
    "Comparons expérimentalement.\n",
    "\n",
    "Tout d'abord, voici la liste d'amis prise pour les tests : [\"Alice\",\"Bob\",\"Alice\",\"Dominique\",\"Bob\",\"Charlie\",\"Bob\",\"Dominique\"]\n",
    "\n",
    "En comparant le temps d'éxécution des deux fonctions, la fonction create_network est plus rapide que la fonction dico_reseau. En effet, en faisant un test avec le module time et en répétant 10 000 fois la fonction et en prenant la moyenne des exécutions de la fonction, on remarque que la fonction create_network a un temps moyenne de 0.00011 ms et la fonction dico_reseau a un temps moyenne de 0.00091 ms. \n",
    "Le résultat dépends de la taille de la listed d'amis.\n",
    "\n",
    "\n",
    "\n",
    "### Question 11\n",
    "\n",
    "Comparer théoriquement et expérimentalement les deux heuristiques de construction, celle donnée par la fonction `find_community_by_decreasing_popularity` et celles donnée par la fonction `find_community_from_person` appliquée à une personne la plus populaire (la recherche de la personne la plus populaire sera prise en compte dans la complexité).\n",
    "\n",
    "Comparons théoriquement.\n",
    "\n",
    "- Tout d'abord, le fonction find_community_by_decreasing_popularity fait appel à trois fonctions get_people,find_community,order_by_decreasing_popularity. Les fonctions get_people et find_commuity ont une compléxité linéaire. Cependant, la fonction order_by_decreasing_popularity a une boucle imbriquée, ce qui fait que la compléxité est quadratique.\n",
    "Ainsi, en combinant toutes les fonctions, la fonction find_community_by_decreasing_popularity a une complexité quadratique.\n",
    "\n",
    "- La fonction find_community_from_person utilise aussi une boucle. Cependant, elle fait appel aussi à la fonction order_by_decreasing_popularity. On sait que la fonction order_by_decreasing_popularity a un compléxité quadratique car elle utilise une boucle imbriquée. Par conséquent, en combinant, la compléxité de la fonction find_community_from_person est quadratique aussi.\n",
    "\n",
    "Comparons expérimentalement.\n",
    "\n",
    "Tout d'abord, voici le réseau pour effectuer les tests: {\"Alice\" : [\"Bob\", \"Dominique\"],\"Bob\" : [\"Alice\", \"Charlie\", \"Dominique\"],\"Charlie\" : [\"Bob\"],\"Dominique\" : [\"Alice\", \"Bob\"]}\n",
    "\n",
    "D'après nos tests, la fonction find_community_from_person est plus rapide que la fonction find_community_by_decreasing_popularity. En effet, en faisant un test avec le module time et en répétant 10 000 fois la fonction et en prenant la moyenne des exécutions de la fonction, on trouve que la fonction find_community_from_person a un temps moyenne de 0.00013 ms et la fonction find_community_by_decreasing_popularity a un temps moyenne de 0.00028 ms.\n",
    "\n",
    "\n",
    "\n",
    "\n",
    "\n",
    "\n",
    "\n",
    "\n"
   ]
  }
 ],
 "metadata": {
  "kernelspec": {
   "display_name": "Python 3.8.10 64-bit",
   "language": "python",
   "name": "python3"
  },
  "language_info": {
   "codemirror_mode": {
    "name": "ipython",
    "version": 3
   },
   "file_extension": ".py",
   "mimetype": "text/x-python",
   "name": "python",
   "nbconvert_exporter": "python",
   "pygments_lexer": "ipython3",
   "version": "3.8.10"
  },
  "vscode": {
   "interpreter": {
    "hash": "916dbcbb3f70747c44a77c7bcd40155683ae19c65e1c03b4aa3499c5328201f1"
   }
  }
 },
 "nbformat": 4,
 "nbformat_minor": 2
}
